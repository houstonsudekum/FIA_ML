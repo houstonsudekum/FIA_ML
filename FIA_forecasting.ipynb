{
 "cells": [
  {
   "cell_type": "markdown",
   "metadata": {},
   "source": [
    "## This notebook reads in CSV's that contain plot-level data and estimate regression models and does propensity score matching"
   ]
  },
  {
   "cell_type": "code",
   "execution_count": 106,
   "metadata": {},
   "outputs": [],
   "source": [
    "# I will also import some regression models below...\n",
    "\n",
    "import pandas as pd\n",
    "import numpy as np\n",
    "import patsy\n",
    "import os\n",
    "import datetime\n",
    "import FIA_functions as FIA"
   ]
  },
  {
   "cell_type": "code",
   "execution_count": 107,
   "metadata": {},
   "outputs": [],
   "source": [
    "# for plotting models\n",
    "\n",
    "import matplotlib.pyplot as plt\n",
    "import seaborn as sns"
   ]
  },
  {
   "cell_type": "code",
   "execution_count": 108,
   "metadata": {},
   "outputs": [],
   "source": [
    "# read in data\n",
    "\n",
    "path = \"in_data\"\n",
    "path = os.path.join(path,\"FIA_plots_16Dec19.csv\")\n",
    "all_plots =  pd.read_csv(path, low_memory=False).drop(columns = ['Unnamed: 0']).reset_index().rename(columns={\"index\": \"X\"})"
   ]
  },
  {
   "cell_type": "code",
   "execution_count": 109,
   "metadata": {},
   "outputs": [],
   "source": [
    "# these are shannon diversity indices for small and large diameter trees; some values with no trees have missing values\n",
    "# fillna fills those values with 0\n",
    "\n",
    "all_plots.loc[:,['S_H','L_H']] = all_plots.loc[:,['S_H','L_H']].fillna(0)"
   ]
  },
  {
   "cell_type": "code",
   "execution_count": 110,
   "metadata": {},
   "outputs": [],
   "source": [
    "# creating binary variables for ports trading forest products, pulp mills, and biopower plants\n",
    "\n",
    "miles = 0.621371\n",
    "\n",
    "all_plots.loc[:,'prts_bi'] = [1 if i > 50 else 0 for i in all_plots.prts_d*miles]\n",
    "all_plots.loc[:,'plp_bi'] = [1 if i > 50 else 0 for i in all_plots.plp_d*miles]\n",
    "all_plots.loc[:,'biop_bi'] = [1 if i > 30 else 0 for i in all_plots.biop_d*miles]"
   ]
  },
  {
   "cell_type": "code",
   "execution_count": 111,
   "metadata": {},
   "outputs": [],
   "source": [
    "# this contains all remeasured plots for panel regression\n",
    "\n",
    "transform_vars = [\"livetree_carbon\",\n",
    "           \"deadtree_carbon\",\n",
    "           \"soil_carbon\",\n",
    "           \"under_carbon\",\n",
    "           \"L_dead_volcfgrs\",\n",
    "           \"L_live_volcfgrs\",\n",
    "           \"L_remvcfal\"]"
   ]
  },
  {
   "cell_type": "code",
   "execution_count": 112,
   "metadata": {},
   "outputs": [],
   "source": [
    "# apply this function to columns we need\n",
    "\n",
    "def yvar_trans(column):\n",
    "    newcol = np.log(min([i for i in column if i > 0])/2 + column)\n",
    "    return(newcol)"
   ]
  },
  {
   "cell_type": "code",
   "execution_count": 113,
   "metadata": {
    "scrolled": true
   },
   "outputs": [
    {
     "data": {
      "text/html": [
       "<div>\n",
       "<style scoped>\n",
       "    .dataframe tbody tr th:only-of-type {\n",
       "        vertical-align: middle;\n",
       "    }\n",
       "\n",
       "    .dataframe tbody tr th {\n",
       "        vertical-align: top;\n",
       "    }\n",
       "\n",
       "    .dataframe thead th {\n",
       "        text-align: right;\n",
       "    }\n",
       "</style>\n",
       "<table border=\"1\" class=\"dataframe\">\n",
       "  <thead>\n",
       "    <tr style=\"text-align: right;\">\n",
       "      <th></th>\n",
       "      <th>livetree_carbon</th>\n",
       "      <th>deadtree_carbon</th>\n",
       "      <th>soil_carbon</th>\n",
       "      <th>under_carbon</th>\n",
       "      <th>L_dead_volcfgrs</th>\n",
       "      <th>L_live_volcfgrs</th>\n",
       "      <th>L_remvcfal</th>\n",
       "    </tr>\n",
       "  </thead>\n",
       "  <tbody>\n",
       "    <tr>\n",
       "      <td>count</td>\n",
       "      <td>84666.000000</td>\n",
       "      <td>84666.000000</td>\n",
       "      <td>84666.000000</td>\n",
       "      <td>84666.000000</td>\n",
       "      <td>83561.000000</td>\n",
       "      <td>83561.000000</td>\n",
       "      <td>83561.000000</td>\n",
       "    </tr>\n",
       "    <tr>\n",
       "      <td>mean</td>\n",
       "      <td>64.100520</td>\n",
       "      <td>1.387806</td>\n",
       "      <td>106.424063</td>\n",
       "      <td>5.700211</td>\n",
       "      <td>12.771084</td>\n",
       "      <td>135.587207</td>\n",
       "      <td>3.783707</td>\n",
       "    </tr>\n",
       "    <tr>\n",
       "      <td>std</td>\n",
       "      <td>53.453676</td>\n",
       "      <td>3.827826</td>\n",
       "      <td>334.452873</td>\n",
       "      <td>57.831673</td>\n",
       "      <td>30.431893</td>\n",
       "      <td>123.369449</td>\n",
       "      <td>24.089395</td>\n",
       "    </tr>\n",
       "    <tr>\n",
       "      <td>min</td>\n",
       "      <td>0.000000</td>\n",
       "      <td>0.000000</td>\n",
       "      <td>32.397611</td>\n",
       "      <td>1.359858</td>\n",
       "      <td>0.000000</td>\n",
       "      <td>0.000000</td>\n",
       "      <td>0.000000</td>\n",
       "    </tr>\n",
       "    <tr>\n",
       "      <td>25%</td>\n",
       "      <td>30.624111</td>\n",
       "      <td>0.000000</td>\n",
       "      <td>45.252572</td>\n",
       "      <td>2.980382</td>\n",
       "      <td>0.000000</td>\n",
       "      <td>56.948337</td>\n",
       "      <td>0.000000</td>\n",
       "    </tr>\n",
       "    <tr>\n",
       "      <td>50%</td>\n",
       "      <td>57.232726</td>\n",
       "      <td>0.030403</td>\n",
       "      <td>72.933629</td>\n",
       "      <td>3.860271</td>\n",
       "      <td>0.536021</td>\n",
       "      <td>116.539265</td>\n",
       "      <td>0.000000</td>\n",
       "    </tr>\n",
       "    <tr>\n",
       "      <td>75%</td>\n",
       "      <td>87.889832</td>\n",
       "      <td>1.222103</td>\n",
       "      <td>118.186201</td>\n",
       "      <td>6.058064</td>\n",
       "      <td>12.205906</td>\n",
       "      <td>186.666245</td>\n",
       "      <td>0.000000</td>\n",
       "    </tr>\n",
       "    <tr>\n",
       "      <td>max</td>\n",
       "      <td>5575.293092</td>\n",
       "      <td>249.228554</td>\n",
       "      <td>38638.651819</td>\n",
       "      <td>15624.390186</td>\n",
       "      <td>843.622716</td>\n",
       "      <td>10847.568399</td>\n",
       "      <td>5954.654308</td>\n",
       "    </tr>\n",
       "  </tbody>\n",
       "</table>\n",
       "</div>"
      ],
      "text/plain": [
       "       livetree_carbon  deadtree_carbon   soil_carbon  under_carbon  \\\n",
       "count     84666.000000     84666.000000  84666.000000  84666.000000   \n",
       "mean         64.100520         1.387806    106.424063      5.700211   \n",
       "std          53.453676         3.827826    334.452873     57.831673   \n",
       "min           0.000000         0.000000     32.397611      1.359858   \n",
       "25%          30.624111         0.000000     45.252572      2.980382   \n",
       "50%          57.232726         0.030403     72.933629      3.860271   \n",
       "75%          87.889832         1.222103    118.186201      6.058064   \n",
       "max        5575.293092       249.228554  38638.651819  15624.390186   \n",
       "\n",
       "       L_dead_volcfgrs  L_live_volcfgrs    L_remvcfal  \n",
       "count     83561.000000     83561.000000  83561.000000  \n",
       "mean         12.771084       135.587207      3.783707  \n",
       "std          30.431893       123.369449     24.089395  \n",
       "min           0.000000         0.000000      0.000000  \n",
       "25%           0.000000        56.948337      0.000000  \n",
       "50%           0.536021       116.539265      0.000000  \n",
       "75%          12.205906       186.666245      0.000000  \n",
       "max         843.622716     10847.568399   5954.654308  "
      ]
     },
     "execution_count": 113,
     "metadata": {},
     "output_type": "execute_result"
    }
   ],
   "source": [
    "# print out transformed variables\n",
    "\n",
    "all_plots.loc[:,transform_vars].describe()"
   ]
  },
  {
   "cell_type": "code",
   "execution_count": 114,
   "metadata": {},
   "outputs": [],
   "source": [
    "# use function above to transform our values\n",
    "\n",
    "for i in transform_vars:\n",
    "    all_plots.loc[:,i] = yvar_trans(all_plots.loc[:,i])"
   ]
  },
  {
   "cell_type": "code",
   "execution_count": 115,
   "metadata": {},
   "outputs": [],
   "source": [
    "# transform distance to natural log\n",
    "\n",
    "distvars = [i for i in list(plots) if (i.endswith('_d'))|(i == 'pellet_min')]\n",
    "\n",
    "for i in distvars:\n",
    "    all_plots.loc[:,i] = np.log(all_plots.loc[:,i].astype('float32'))"
   ]
  },
  {
   "cell_type": "code",
   "execution_count": 116,
   "metadata": {},
   "outputs": [],
   "source": [
    "# de-mean continous/discrete explanatory variables\n",
    "\n",
    "xvars = [\"pdsi\",\"poparea\",\"pellet_min\",\"pellet_count\",\"plp_d\",\"prts_d\",\n",
    "         \"biop_d\",\"adj_sicond\",\"L_H\",\"S_H\",\"road_area\",\"cos_aspect\"]\n",
    "\n",
    "all_plots.loc[:,xvars] = all_plots.loc[:,xvars].sub(all_plots.loc[:,xvars].mean())"
   ]
  },
  {
   "cell_type": "code",
   "execution_count": 117,
   "metadata": {},
   "outputs": [],
   "source": [
    "# there are two seperate samples conatined in the csv (all removal plots and all remeasured plots)\n",
    "# i created a key to distinguish the samples and we will only use one sample\n",
    "# we filter out only the remeasured plots and drop the removal plots\n",
    "\n",
    "plots = all_plots.loc[all_plots.remv_key == 0,:].reset_index(drop = True)"
   ]
  },
  {
   "cell_type": "code",
   "execution_count": 118,
   "metadata": {},
   "outputs": [],
   "source": [
    "# change pellet count to only count values greater than 1\n",
    "\n",
    "plots.loc[:,'pellet_count'] = [int(i)-1 if i > 1 else 0 for i in plots.loc[:,'pellet_count']]\n"
   ]
  },
  {
   "cell_type": "code",
   "execution_count": 119,
   "metadata": {},
   "outputs": [],
   "source": [
    "# create a removal indicator for the remeasured plots to know which plots have any removals\n",
    "\n",
    "plots.loc[(plots.RTPA > 0)|(plots.L_remvcfal > 0),'remv_binary'] = 1\n",
    "\n",
    "plots.loc[:,'remv_binary'] =  plots.remv_binary.fillna(0)"
   ]
  },
  {
   "cell_type": "code",
   "execution_count": 120,
   "metadata": {},
   "outputs": [],
   "source": [
    "# this is formula and columns needed for PR-score with remeasured plots\n",
    "# we use wood product industry variables to gain a subsample of plots within radii of pellet mills and outside\n",
    "\n",
    "col1 = [\"plot_id\",\"invyr\",\"treatment\",\"plp_pr_d\",\"biop_pr_d\",\n",
    "        \"prpop\",\"prts_d\",'road_area','statecd']\n",
    "\n",
    "m1 = \"treatment ~ plp_pr_d + prts_d + biop_pr_d + prpop + road_area + statecd\""
   ]
  },
  {
   "cell_type": "code",
   "execution_count": 121,
   "metadata": {},
   "outputs": [],
   "source": [
    "# get dataframe for PR-score matching with remeasured plots\n",
    "\n",
    "pr = plots.loc[pd.to_numeric(plots.invyr) > 2010,col1].reset_index(drop = True)"
   ]
  },
  {
   "cell_type": "code",
   "execution_count": 122,
   "metadata": {},
   "outputs": [],
   "source": [
    "# get a list of plot_id's that are treated\n",
    "\n",
    "treated = list(set([i for y,i in zip(list(pr.loc[:,'treatment']), list(pr.loc[:,'plot_id'])) if int(y) > 0]))\n",
    "\n",
    "# set all treatment to 1 so that we do not match treated to non treated\n",
    "\n",
    "pr.loc[pr.plot_id.isin(treated),'treatment'] = 1\n",
    "\n",
    "# drop duplicates so we only have one plot_id\n",
    "\n",
    "pr = pr.drop_duplicates(subset=['plot_id']).reset_index(drop = True)\n"
   ]
  },
  {
   "cell_type": "code",
   "execution_count": 123,
   "metadata": {},
   "outputs": [],
   "source": [
    "# change statecd to categorical so that patsy function below interprets it as such\n",
    "\n",
    "pr.loc[:,'statecd'] = pd.Categorical(pr.statecd)"
   ]
  },
  {
   "cell_type": "code",
   "execution_count": 124,
   "metadata": {},
   "outputs": [],
   "source": [
    "# use a patsy function to make dataframes from the m1 formula and the pr dataframe\n",
    "\n",
    "y, X = patsy.dmatrices(m1, pr, return_type='dataframe')"
   ]
  },
  {
   "cell_type": "code",
   "execution_count": 125,
   "metadata": {},
   "outputs": [],
   "source": [
    "# import the discrete model to use for PR-score matching\n",
    "\n",
    "import statsmodels.discrete.discrete_model as ds"
   ]
  },
  {
   "cell_type": "code",
   "execution_count": 126,
   "metadata": {},
   "outputs": [
    {
     "name": "stdout",
     "output_type": "stream",
     "text": [
      "Optimization terminated successfully.\n",
      "         Current function value: 0.475481\n",
      "         Iterations 7\n"
     ]
    }
   ],
   "source": [
    "# estimate and fit the models\n",
    "\n",
    "prmod = ds.Probit(endog = y, exog = X)\n",
    "matchmod = prmod.fit()\n",
    "\n",
    "# get the propensity scoroes\n",
    "\n",
    "prscores = pd.Series(matchmod.predict()).rename('prscore')"
   ]
  },
  {
   "cell_type": "code",
   "execution_count": 127,
   "metadata": {},
   "outputs": [],
   "source": [
    "# merge the new prscores into the original dataframe\n",
    "\n",
    "plts_pr = pr.merge(prscores, left_index = True, right_index = True).reset_index(drop = True)"
   ]
  },
  {
   "cell_type": "code",
   "execution_count": 128,
   "metadata": {},
   "outputs": [],
   "source": [
    "# format the sizes of legend and figure\n",
    "params = {'legend.fontsize': 15,\n",
    "          'legend.handlelength': 2,\n",
    "          'figure.figsize': (20,10)}\n",
    "plt.rcParams.update(params)"
   ]
  },
  {
   "cell_type": "code",
   "execution_count": 129,
   "metadata": {},
   "outputs": [
    {
     "data": {
      "image/png": "[encoded data removed]",
      "text/plain": [
       "<Figure size 1440x720 with 1 Axes>"
      ]
     },
     "metadata": {
      "needs_background": "light"
     },
     "output_type": "display_data"
    }
   ],
   "source": [
    "# plot the distribution of treated and non-treated plots after propensity score matching\n",
    "\n",
    "# get two dataframes of treated and non-treated prscores\n",
    "treat = plts_pr.loc[plts_pr['treatment'] > 0][['prscore']]\n",
    "cont = plts_pr.loc[plts_pr['treatment'] == 0][['prscore']]\n",
    "bins = np.linspace(0, 1, 50)\n",
    "\n",
    "# plot values in a histogram\n",
    "plt.hist(cont.prscore, bins, alpha=0.5, label='Control')\n",
    "plt.hist(treat.prscore, bins, alpha=0.5, label='Treatment')\n",
    "plt.legend(loc='upper right')\n",
    "plt.ylabel('Number of plots', fontsize = 15)\n",
    "plt.xlabel('Propensity score', fontsize = 15)\n",
    "\n",
    "\n",
    "# display\n",
    "plt.show()"
   ]
  },
  {
   "cell_type": "code",
   "execution_count": 130,
   "metadata": {},
   "outputs": [],
   "source": [
    "# see the matchit function in FIA_functions.py\n",
    "# this function is designed to match each plot 1:1 based on a propensity score\n",
    "# calculated from a logit/probit regression\n",
    "# must input a pandas dataframe with a column name that indicates treatment and a column that contains prscores\n",
    "# this takes a long time because we have to evaluate each record and find the closest\n",
    "# resampling can be set to true\n",
    "\n",
    "matched_df = FIA.matchit(plts_pr,'treatment','prscore')"
   ]
  },
  {
   "cell_type": "code",
   "execution_count": 131,
   "metadata": {},
   "outputs": [],
   "source": [
    "# get all plot_id's from matched_df\n",
    "\n",
    "keeperlist = list(matched_df.plot_id)\n",
    "\n",
    "# get all observations of matched plots\n",
    "\n",
    "m_plots = plots.loc[plots.plot_id.isin(keeperlist),]"
   ]
  },
  {
   "cell_type": "code",
   "execution_count": 132,
   "metadata": {},
   "outputs": [],
   "source": [
    "# delete extra stuff\n",
    "\n",
    "del plts_pr\n",
    "del keeperlist\n",
    "del matched_df\n",
    "del pr\n",
    "del y\n",
    "del X"
   ]
  },
  {
   "cell_type": "code",
   "execution_count": 133,
   "metadata": {},
   "outputs": [],
   "source": [
    "# formula...\n",
    "\n",
    "p_form = \"\"\"adj_sicond + pdsi + pellet_min + pellet_min:pellet_50 + \n",
    "plp_d + poparea + prts_d + biop_d + L_H + S_H + cos_aspect + fire_wth + ins_dis + \n",
    "private + art_regen + private:art_regen\"\"\"\n"
   ]
  },
  {
   "cell_type": "markdown",
   "metadata": {},
   "source": [
    "## Binary choice models (removals, fire-weather, artificial regeneration)\n",
    "### Below is just standard logistic regressions with intercepts as fixed effects\n",
    "### update:\n",
    "    - if we want to make predictions then exclude all 2015-2018 plots from the initial model\n",
    "    - run logistic model on 2000-2015 plots\n",
    "    - use the new plots to get predictions of removals, disturbance etc."
   ]
  },
  {
   "cell_type": "code",
   "execution_count": 146,
   "metadata": {},
   "outputs": [
    {
     "name": "stdout",
     "output_type": "stream",
     "text": [
      "there are 4358 removal plots that have a previous measurement we could use for model estimation and 9670 total removal plots\n"
     ]
    }
   ],
   "source": [
    "test = plots.loc[plots.remv_binary == 1,['invyr','plot_id','remv_binary']]\n",
    "\n",
    "test2 = plots.sort_values(['plot_id','invyr']).loc[plots.plot_id.isin(list(test.plot_id)),['invyr','plot_id','remv_binary']]\n",
    "\n",
    "first = test2.drop_duplicates(subset = 'plot_id',keep = 'first').fillna(0).remv_binary.sum()\n",
    "\n",
    "second = sum(test2.remv_binary.fillna(0))\n",
    "\n",
    "val = second - first\n",
    "\n",
    "print('there are {} removal plots that have a previous measurement we could use for model estimation and {} total removal plots'.format(int(val),int(second)))\n",
    "\n",
    "del test\n",
    "del test2\n",
    "del first\n",
    "del second"
   ]
  },
  {
   "cell_type": "code",
   "execution_count": 147,
   "metadata": {},
   "outputs": [
    {
     "data": {
      "text/html": [
       "<div>\n",
       "<style scoped>\n",
       "    .dataframe tbody tr th:only-of-type {\n",
       "        vertical-align: middle;\n",
       "    }\n",
       "\n",
       "    .dataframe tbody tr th {\n",
       "        vertical-align: top;\n",
       "    }\n",
       "\n",
       "    .dataframe thead th {\n",
       "        text-align: right;\n",
       "    }\n",
       "</style>\n",
       "<table border=\"1\" class=\"dataframe\">\n",
       "  <thead>\n",
       "    <tr style=\"text-align: right;\">\n",
       "      <th></th>\n",
       "      <th>plot_id</th>\n",
       "      <th>plt_cn</th>\n",
       "      <th>prev_plt_cn</th>\n",
       "      <th>invyr</th>\n",
       "    </tr>\n",
       "  </thead>\n",
       "  <tbody>\n",
       "    <tr>\n",
       "      <td>2054</td>\n",
       "      <td>0_0</td>\n",
       "      <td>2.064415e+13</td>\n",
       "      <td>3.276374e+13</td>\n",
       "      <td>2000.0</td>\n",
       "    </tr>\n",
       "    <tr>\n",
       "      <td>1940</td>\n",
       "      <td>0_0</td>\n",
       "      <td>7.685324e+13</td>\n",
       "      <td>2.064415e+13</td>\n",
       "      <td>2005.0</td>\n",
       "    </tr>\n",
       "    <tr>\n",
       "      <td>2243</td>\n",
       "      <td>0_0</td>\n",
       "      <td>1.968832e+14</td>\n",
       "      <td>7.685324e+13</td>\n",
       "      <td>2010.0</td>\n",
       "    </tr>\n",
       "    <tr>\n",
       "      <td>1197</td>\n",
       "      <td>0_0</td>\n",
       "      <td>3.874849e+14</td>\n",
       "      <td>1.968832e+14</td>\n",
       "      <td>2015.0</td>\n",
       "    </tr>\n",
       "    <tr>\n",
       "      <td>2055</td>\n",
       "      <td>0_1</td>\n",
       "      <td>2.064416e+13</td>\n",
       "      <td>3.276407e+13</td>\n",
       "      <td>2000.0</td>\n",
       "    </tr>\n",
       "    <tr>\n",
       "      <td>1936</td>\n",
       "      <td>0_1</td>\n",
       "      <td>7.685338e+13</td>\n",
       "      <td>2.064416e+13</td>\n",
       "      <td>2005.0</td>\n",
       "    </tr>\n",
       "    <tr>\n",
       "      <td>2152</td>\n",
       "      <td>0_1</td>\n",
       "      <td>1.968832e+14</td>\n",
       "      <td>7.685338e+13</td>\n",
       "      <td>2010.0</td>\n",
       "    </tr>\n",
       "    <tr>\n",
       "      <td>1211</td>\n",
       "      <td>0_1</td>\n",
       "      <td>3.874849e+14</td>\n",
       "      <td>1.968832e+14</td>\n",
       "      <td>2015.0</td>\n",
       "    </tr>\n",
       "    <tr>\n",
       "      <td>2064</td>\n",
       "      <td>0_10</td>\n",
       "      <td>2.064430e+13</td>\n",
       "      <td>3.278176e+13</td>\n",
       "      <td>2000.0</td>\n",
       "    </tr>\n",
       "    <tr>\n",
       "      <td>2084</td>\n",
       "      <td>0_10</td>\n",
       "      <td>7.685483e+13</td>\n",
       "      <td>2.064430e+13</td>\n",
       "      <td>2005.0</td>\n",
       "    </tr>\n",
       "  </tbody>\n",
       "</table>\n",
       "</div>"
      ],
      "text/plain": [
       "     plot_id        plt_cn   prev_plt_cn   invyr\n",
       "2054     0_0  2.064415e+13  3.276374e+13  2000.0\n",
       "1940     0_0  7.685324e+13  2.064415e+13  2005.0\n",
       "2243     0_0  1.968832e+14  7.685324e+13  2010.0\n",
       "1197     0_0  3.874849e+14  1.968832e+14  2015.0\n",
       "2055     0_1  2.064416e+13  3.276407e+13  2000.0\n",
       "1936     0_1  7.685338e+13  2.064416e+13  2005.0\n",
       "2152     0_1  1.968832e+14  7.685338e+13  2010.0\n",
       "1211     0_1  3.874849e+14  1.968832e+14  2015.0\n",
       "2064    0_10  2.064430e+13  3.278176e+13  2000.0\n",
       "2084    0_10  7.685483e+13  2.064430e+13  2005.0"
      ]
     },
     "execution_count": 147,
     "metadata": {},
     "output_type": "execute_result"
    }
   ],
   "source": [
    "# just to double check they are matching\n",
    "plots.loc[:,['plot_id','plt_cn','prev_plt_cn','invyr']].sort_values(['plot_id','invyr']).head(10)"
   ]
  },
  {
   "cell_type": "code",
   "execution_count": 148,
   "metadata": {},
   "outputs": [],
   "source": [
    "id_list = list(plots.loc[plots.remv_binary == 1,'plot_id'])    "
   ]
  },
  {
   "cell_type": "code",
   "execution_count": 149,
   "metadata": {},
   "outputs": [],
   "source": [
    "newdf = plots.loc[plots.plot_id.isin(id_list),:]"
   ]
  },
  {
   "cell_type": "code",
   "execution_count": 150,
   "metadata": {},
   "outputs": [
    {
     "name": "stdout",
     "output_type": "stream",
     "text": [
      "We have a total of 23178 plot observations, 9670 have a recorded removal and 8636 unique plot id's\n",
      "We have some plots that have repeated removals\n"
     ]
    }
   ],
   "source": [
    "allobs = len(newdf)\n",
    "\n",
    "removalobs = int(sum(newdf.remv_binary.fillna(0)))\n",
    "\n",
    "totalplots = len(newdf.plot_id.unique())\n",
    "\n",
    "print(\"We have a total of {} plot observations, {} have a recorded removal and {} unique plot id's\".format(allobs,removalobs,totalplots))\n",
    "\n",
    "del allobs\n",
    "del removalobs\n",
    "del totalplots"
   ]
  },
  {
   "cell_type": "markdown",
   "metadata": {},
   "source": [
    "## Getting lagged values which takes a long time"
   ]
  },
  {
   "cell_type": "code",
   "execution_count": 151,
   "metadata": {
    "scrolled": true
   },
   "outputs": [],
   "source": [
    "ids = list(plots.plot_id.unique())\n",
    "\n",
    "firstobs = []\n",
    "dropit = []\n",
    "index_dict = {}\n",
    "\n",
    "\n",
    "for idx,i in enumerate(sorted(ids)):\n",
    "\n",
    "    temp = plots.loc[plots.plot_id == i].sort_values(['invyr'])\n",
    "    \n",
    "    remv = sum(temp.remv_binary)\n",
    "    \n",
    "    if remv > 0:\n",
    "        \n",
    "        # just use this for a test below to make sure first obs is not removal\n",
    "        \n",
    "        minyear = min(list(pd.to_numeric(temp.invyr)))\n",
    "        remvyear = min(list(pd.to_numeric(temp.loc[temp.remv_binary == 1,'invyr'])))\n",
    "        \n",
    "        # we plan to drop the whole plot if the first obs has a removal\n",
    "        \n",
    "        if minyear == remvyear:\n",
    "            dropit.append(i)\n",
    "            continue\n",
    "        \n",
    "    # we sort the df by inventory year and index so that the first value of\n",
    "    # each iteration is the first obs in the plot which will eventually be dropped\n",
    "    # I save this value to a list to create a binary later on\n",
    "\n",
    "    for jdx,j in enumerate(temp.sort_values('invyr').index):\n",
    "        if jdx == 0:\n",
    "            # if it is the first one\n",
    "            # save the index\n",
    "\n",
    "            saveit = j\n",
    "            \n",
    "        else:\n",
    "\n",
    "            # get the values from temp that we want\n",
    "\n",
    "            t,v,r,rv,rb = list(temp.loc[saveit,['TPA','L_live_volcfgrs','RTPA','L_remvcfal','remv_binary']])\n",
    "\n",
    "            # add them to a dictionary and save them with current index\n",
    "\n",
    "            index_dict[j] = {'TPA':t,'L_live_volcfgrs':v,'RTPA':r,'L_remvcfal':rv,'remv_binary':rb}\n",
    "\n",
    "            # save the current key\n",
    "\n",
    "            saveit = j"
   ]
  },
  {
   "cell_type": "code",
   "execution_count": 152,
   "metadata": {},
   "outputs": [],
   "source": [
    "lagged_vals = pd.DataFrame.from_dict(index_dict,orient='index').fillna(0)"
   ]
  },
  {
   "cell_type": "code",
   "execution_count": 153,
   "metadata": {},
   "outputs": [],
   "source": [
    "# this inner join will drop all first observations of plots\n",
    "\n",
    "newdf = plots.merge(lagged_vals,\n",
    "                    how = 'inner',\n",
    "                    left_index = True,\n",
    "                    right_index = True,\n",
    "                    indicator = True,\n",
    "                    suffixes=('','_lag'))"
   ]
  },
  {
   "cell_type": "code",
   "execution_count": 154,
   "metadata": {},
   "outputs": [],
   "source": [
    "newdf.loc[:,'invyrtemp'] = newdf.invyr\n",
    "\n",
    "remv_mod_df = newdf.set_index(['plot_id','invyr'])"
   ]
  },
  {
   "cell_type": "markdown",
   "metadata": {},
   "source": [
    "## Import logistic model from statsmodels"
   ]
  },
  {
   "cell_type": "code",
   "execution_count": 155,
   "metadata": {},
   "outputs": [],
   "source": [
    "from statsmodels.discrete.discrete_model import Logit"
   ]
  },
  {
   "cell_type": "markdown",
   "metadata": {},
   "source": [
    "## Removal Model"
   ]
  },
  {
   "cell_type": "code",
   "execution_count": null,
   "metadata": {},
   "outputs": [],
   "source": [
    "remv_form = \"\"\"~ remv_binary_lag + L_live_volcfgrs_lag + pdsi + mjr_access + pellet_min + pellet_50\n",
    " + pellet_count + plp_d + poparea + biop_d + L_H + S_H + fire_wth + ins_dis + stat_fed + prts_d\n",
    " + C(ecosubs) + C(invyrtemp) + C(statecd) + art_regen\"\"\"\n",
    "\n",
    "f1 = 'remv_binary ' + remv_form"
   ]
  },
  {
   "cell_type": "code",
   "execution_count": null,
   "metadata": {},
   "outputs": [],
   "source": [
    "y, X = patsy.dmatrices(f1, remv_mod_df, return_type='dataframe')"
   ]
  },
  {
   "cell_type": "code",
   "execution_count": null,
   "metadata": {},
   "outputs": [],
   "source": [
    "remv_out_mod = Logit(y,X)"
   ]
  },
  {
   "cell_type": "code",
   "execution_count": null,
   "metadata": {},
   "outputs": [],
   "source": [
    "remv_out = remv_out_mod.fit_regularized()"
   ]
  },
  {
   "cell_type": "code",
   "execution_count": null,
   "metadata": {
    "scrolled": false
   },
   "outputs": [],
   "source": [
    "print(remv_out.summary())"
   ]
  },
  {
   "cell_type": "code",
   "execution_count": null,
   "metadata": {},
   "outputs": [],
   "source": [
    "X['predict'] = remv_out.predict()"
   ]
  },
  {
   "cell_type": "code",
   "execution_count": null,
   "metadata": {},
   "outputs": [],
   "source": [
    "df = X.predict.reset_index()"
   ]
  },
  {
   "cell_type": "code",
   "execution_count": null,
   "metadata": {},
   "outputs": [],
   "source": [
    "predicted = df.merge(newdf, how = 'inner',on = ['plot_id','invyr'] )"
   ]
  },
  {
   "cell_type": "code",
   "execution_count": null,
   "metadata": {},
   "outputs": [],
   "source": [
    "predict = predicted.loc[(predicted.invyr > 2014),['lat','lon','predict']].sort_values('predict',ascending = False)"
   ]
  },
  {
   "cell_type": "code",
   "execution_count": null,
   "metadata": {},
   "outputs": [],
   "source": [
    "import matplotlib.pyplot as plt\n",
    "import seaborn as sns\n",
    "\n",
    "plt.rcParams[\"figure.figsize\"] = (25,20)"
   ]
  },
  {
   "cell_type": "code",
   "execution_count": null,
   "metadata": {
    "scrolled": false
   },
   "outputs": [],
   "source": [
    "x = predict.lon\n",
    "y = predict.lat\n",
    "z = predict.predict\n",
    "\n",
    "# get the color map\n",
    "\n",
    "cmap = sns.cubehelix_palette(as_cmap=True)\n",
    "\n",
    "f, ax = plt.subplots()\n",
    "\n",
    "# plot the points\n",
    "\n",
    "points = ax.scatter(x, y, c=z, s=5,cmap=cmap)\n",
    "\n",
    "# add the color_bar\n",
    "\n",
    "f.colorbar(points)\n",
    "\n",
    "plt.show()"
   ]
  },
  {
   "cell_type": "code",
   "execution_count": null,
   "metadata": {},
   "outputs": [],
   "source": [
    "sns.distplot(z)\n",
    "plt.show()"
   ]
  },
  {
   "cell_type": "markdown",
   "metadata": {},
   "source": [
    "## Artificial Regeneration Model"
   ]
  },
  {
   "cell_type": "code",
   "execution_count": null,
   "metadata": {},
   "outputs": [],
   "source": [
    "regen_form = \"\"\"~ mjr_access + pellet_min + pellet_50 + prts_d +\n",
    " + pellet_count + plp_d + poparea + biop_d + stat_fed \n",
    " + C(ecosubs) + C(statecd)\"\"\"\n",
    "\n",
    "f2 = 'art_regen ' + regen_form"
   ]
  },
  {
   "cell_type": "code",
   "execution_count": null,
   "metadata": {},
   "outputs": [],
   "source": [
    "y, X = patsy.dmatrices(f2, remv_mod_df, return_type='dataframe')"
   ]
  },
  {
   "cell_type": "code",
   "execution_count": null,
   "metadata": {},
   "outputs": [],
   "source": [
    "regen_mod = Logit(y,X)"
   ]
  },
  {
   "cell_type": "code",
   "execution_count": null,
   "metadata": {
    "scrolled": true
   },
   "outputs": [],
   "source": [
    "regen_out = regen_mod.fit_regularized()"
   ]
  },
  {
   "cell_type": "code",
   "execution_count": null,
   "metadata": {
    "scrolled": false
   },
   "outputs": [],
   "source": [
    "print(regen_out.summary())"
   ]
  },
  {
   "cell_type": "markdown",
   "metadata": {},
   "source": [
    "## Fire-Weather Model"
   ]
  },
  {
   "cell_type": "code",
   "execution_count": null,
   "metadata": {},
   "outputs": [],
   "source": [
    "fire_form = \"\"\"~ remv_binary + remv_binary_lag + L_live_volcfgrs_lag + pdsi + mjr_access + pellet_min + pellet_50\n",
    " + pellet_count + plp_d + poparea + biop_d + L_H + S_H + ins_dis + stat_fed + prts_d\n",
    " + C(ecosubs) + C(invyrtemp) + C(statecd) + art_regen\"\"\"\n",
    "\n",
    "f3 = 'fire_wth' + fire_form"
   ]
  },
  {
   "cell_type": "code",
   "execution_count": null,
   "metadata": {},
   "outputs": [],
   "source": [
    "y, X = patsy.dmatrices(f3, remv_mod_df, return_type='dataframe')"
   ]
  },
  {
   "cell_type": "code",
   "execution_count": null,
   "metadata": {},
   "outputs": [],
   "source": [
    "remv_out_mod = Logit(y,X)"
   ]
  },
  {
   "cell_type": "code",
   "execution_count": null,
   "metadata": {},
   "outputs": [],
   "source": [
    "remv_out = remv_out_mod.fit_regularized()"
   ]
  },
  {
   "cell_type": "code",
   "execution_count": null,
   "metadata": {
    "scrolled": false
   },
   "outputs": [],
   "source": [
    "print(remv_out.summary())"
   ]
  },
  {
   "cell_type": "markdown",
   "metadata": {},
   "source": [
    "## Generalized linear mixed effects binomial models (*work in progress*)\n",
    "### see:\n",
    "\n",
    "#### https://www.statsmodels.org/dev/generated/statsmodels.genmod.bayes_mixed_glm.BinomialBayesMixedGLM.html\n",
    "\n",
    "#### https://www.statsmodels.org/stable/generated/statsmodels.genmod.bayes_mixed_glm.BinomialBayesMixedGLM.html\n",
    "\n",
    "#### https://www.statsmodels.org/dev/generated/statsmodels.genmod.bayes_mixed_glm.BayesMixedGLMResults.html"
   ]
  },
  {
   "cell_type": "code",
   "execution_count": null,
   "metadata": {},
   "outputs": [],
   "source": [
    "from statsmodels.genmod.bayes_mixed_glm import BinomialBayesMixedGLM"
   ]
  },
  {
   "cell_type": "code",
   "execution_count": null,
   "metadata": {},
   "outputs": [],
   "source": [
    "# adding random effect\n",
    "\n",
    "remv_form = \"\"\"~ C(ecosubs) + C(invyrtemp) + remv_binary_lag + L_live_volcfgrs_lag + pdsi + mjr_access + pellet_min + pellet_50\n",
    " + pellet_count + plp_d + poparea + biop_d + L_H + S_H + fire_wth + ins_dis + stat_fed + prts_d + art_regen\"\"\"\n",
    "\n",
    "f1 = 'remv_binary ' + remv_form"
   ]
  },
  {
   "cell_type": "code",
   "execution_count": null,
   "metadata": {},
   "outputs": [],
   "source": [
    "# adding random effect for statecd\n",
    "\n",
    "random = {\"a\": \"\"\"0 + C(statecd)\"\"\"}"
   ]
  },
  {
   "cell_type": "code",
   "execution_count": null,
   "metadata": {},
   "outputs": [],
   "source": [
    "rand_logit = BinomialBayesMixedGLM.from_formula(f1,random,remv_mod_df)"
   ]
  },
  {
   "cell_type": "code",
   "execution_count": null,
   "metadata": {},
   "outputs": [],
   "source": [
    "out = rand_logit.fit_map()"
   ]
  },
  {
   "cell_type": "code",
   "execution_count": null,
   "metadata": {},
   "outputs": [],
   "source": [
    "print(out.summary())"
   ]
  }
 ],
 "metadata": {
  "kernelspec": {
   "display_name": "Python 3",
   "language": "python",
   "name": "python3"
  },
  "language_info": {
   "codemirror_mode": {
    "name": "ipython",
    "version": 3
   },
   "file_extension": ".py",
   "mimetype": "text/x-python",
   "name": "python",
   "nbconvert_exporter": "python",
   "pygments_lexer": "ipython3",
   "version": "3.6.8"
  }
 },
 "nbformat": 4,
 "nbformat_minor": 2
}
